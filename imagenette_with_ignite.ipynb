{
 "cells": [
  {
   "cell_type": "code",
   "execution_count": 1,
   "metadata": {},
   "outputs": [],
   "source": [
    "# https://www.kaggle.com/vfdev5/pytorch-and-ignite-on-fruits-360"
   ]
  },
  {
   "cell_type": "code",
   "execution_count": 2,
   "metadata": {},
   "outputs": [],
   "source": [
    "%reload_ext autoreload\n",
    "%autoreload 2"
   ]
  },
  {
   "cell_type": "code",
   "execution_count": 3,
   "metadata": {},
   "outputs": [],
   "source": [
    "import os\n",
    "import numpy as np\n",
    "import torch\n",
    "import torchvision.transforms as transforms\n",
    "import torchvision.datasets as datasets\n",
    "\n",
    "from ignite.engine import Events, create_supervised_trainer, create_supervised_evaluator\n",
    "from ignite.metrics import Loss, Accuracy, Precision, Recall\n",
    "\n",
    "from fastai.basics import untar_data, URLs, Mish, MaxPool, LabelSmoothingCrossEntropy, ranger\n",
    "from fastai.vision.models.xresnet import *"
   ]
  },
  {
   "cell_type": "markdown",
   "metadata": {},
   "source": [
    "## Setup"
   ]
  },
  {
   "cell_type": "code",
   "execution_count": 4,
   "metadata": {},
   "outputs": [],
   "source": [
    "torch.backends.cudnn.benchmark = True"
   ]
  },
  {
   "cell_type": "code",
   "execution_count": 5,
   "metadata": {},
   "outputs": [
    {
     "name": "stdout",
     "output_type": "stream",
     "text": [
      "0: Quadro RTX 8000\n",
      "1: GeForce GTX 1080 Ti\n"
     ]
    }
   ],
   "source": [
    "for i in range(torch.cuda.device_count()): \n",
    "    print(f'{i}:', torch.cuda.get_device_name(i))\n",
    "    \n",
    "DEVICE = torch.device('cuda:1')"
   ]
  },
  {
   "cell_type": "code",
   "execution_count": 6,
   "metadata": {},
   "outputs": [],
   "source": [
    "BATCH_SIZE = 32\n",
    "NUM_WORKERS = 8\n",
    "LR = 8e-3\n",
    "\n",
    "WEIGHT_DECAY=1e-2\n",
    "NUM_EPOCHS=5"
   ]
  },
  {
   "cell_type": "code",
   "execution_count": 7,
   "metadata": {},
   "outputs": [],
   "source": [
    "path = untar_data(URLs.IMAGENETTE_320)\n",
    "traindir = os.path.join(path, 'train')\n",
    "valdir = os.path.join(path, 'val')"
   ]
  },
  {
   "cell_type": "code",
   "execution_count": 8,
   "metadata": {},
   "outputs": [],
   "source": [
    "normalize = transforms.Normalize(mean=[0.485, 0.456, 0.406],\n",
    "                             std=[0.229, 0.224, 0.225])\n",
    "\n",
    "train_dataset = datasets.ImageFolder(\n",
    "    traindir,\n",
    "    transforms.Compose([\n",
    "        transforms.Resize(128),\n",
    "        transforms.CenterCrop(128),\n",
    "        transforms.RandomHorizontalFlip(),\n",
    "        transforms.ToTensor(),\n",
    "        normalize,\n",
    "    ])\n",
    ")\n",
    "\n",
    "train_loader = torch.utils.data.DataLoader(\n",
    "    train_dataset, batch_size=BATCH_SIZE, shuffle=True,\n",
    "    num_workers=NUM_WORKERS, pin_memory=True) \n",
    "\n",
    "\n",
    "\n",
    "val_loader = torch.utils.data.DataLoader(\n",
    "    datasets.ImageFolder(valdir, transforms.Compose([\n",
    "        transforms.Resize(128),\n",
    "        transforms.CenterCrop(128),\n",
    "        transforms.ToTensor(),\n",
    "        normalize,\n",
    "    ])),\n",
    "    batch_size=BATCH_SIZE, shuffle=False,\n",
    "    num_workers=NUM_WORKERS, pin_memory=True)"
   ]
  },
  {
   "cell_type": "code",
   "execution_count": 9,
   "metadata": {},
   "outputs": [],
   "source": [
    "# # uncomment this to run on subest of data\n",
    "# from torch.utils.data import Subset\n",
    "\n",
    "# train_loader = torch.utils.data.dataloader.DataLoader(\n",
    "#     Subset(train_loader.dataset, np.random.permutation(np.arange(len(train_loader.dataset))[:500])),\n",
    "#     batch_size=BATCH_SIZE, shuffle=True, num_workers=NUM_WORKERS, pin_memory=True)"
   ]
  },
  {
   "cell_type": "code",
   "execution_count": 10,
   "metadata": {},
   "outputs": [],
   "source": [
    "model = xse_resnext50(n_out=10, act_cls=Mish, sa=1, sym=0, pool=MaxPool).to(DEVICE)\n",
    "optimizer = ranger(model.parameters(), LR, wd=WEIGHT_DECAY, mom=0.95, sqr_mom=0.99, eps=1e-6, beta=0)\n",
    "criterion = LabelSmoothingCrossEntropy()"
   ]
  },
  {
   "cell_type": "markdown",
   "metadata": {},
   "source": [
    "### Define train and eval loops"
   ]
  },
  {
   "cell_type": "code",
   "execution_count": 11,
   "metadata": {},
   "outputs": [],
   "source": [
    "from ignite.contrib.metrics import GpuInfo\n",
    "from ignite.contrib.handlers.tqdm_logger import ProgressBar\n",
    "from ignite.metrics.metric import BatchWise\n",
    "from ignite.metrics import RunningAverage"
   ]
  },
  {
   "cell_type": "code",
   "execution_count": 12,
   "metadata": {},
   "outputs": [],
   "source": [
    "# train loop\n",
    "\n",
    "trainer = create_supervised_trainer(\n",
    "    model, optimizer, criterion, DEVICE, output_transform=lambda x, y, y_pred, loss: (y_pred, y))\n",
    "\n",
    "GpuInfo().attach(trainer, name='gpu')\n",
    "\n",
    "avg_loss = RunningAverage(Loss(criterion))\n",
    "avg_loss.attach(trainer, 'loss', BatchWise())\n",
    "\n",
    "pbar = ProgressBar(persist=False) \\\n",
    "    .attach(trainer, metric_names=['loss', 'gpu:0 mem(%)', 'gpu:0 util(%)'])"
   ]
  },
  {
   "cell_type": "code",
   "execution_count": 13,
   "metadata": {},
   "outputs": [],
   "source": [
    "# eval loops\n",
    "metrics = {\n",
    "    'avg_loss': Loss(criterion),\n",
    "    'avg_accuracy': Accuracy(),\n",
    "    'avg_precision': Precision(average=True), \n",
    "    'avg_recall': Recall(average=True)\n",
    "}\n",
    "\n",
    "train_evaluator = create_supervised_evaluator(model, metrics=metrics, device=DEVICE)\n",
    "val_evaluator = create_supervised_evaluator(model, metrics=metrics, device=DEVICE)\n",
    "\n",
    "# getting the trainer (train loop) to run evaluation for us\n",
    "@trainer.on(Events.EPOCH_COMPLETED)\n",
    "def compute_and_display_offline_train_metrics(engine):\n",
    "    # is this inefficient to get offline metrics like this?\n",
    "    # yes - but that is okay\n",
    "    # in a RL scenario, we could create a train_eval_loader just on a subset of the data\n",
    "    # or we might not care with smaller datasets :)\n",
    "    # or we could calculate online metrics through `RunningAverage`, store them somewhere, and output at EPOCH_COMPLETED\n",
    "    # or we could capture all of the outputs during train, move them to CPU, and calculate\n",
    "    # etc ...\n",
    "    epoch = engine.state.epoch\n",
    "    metrics = train_evaluator.run(train_loader).metrics\n",
    "    print(\"Training Results - Epoch: {}  Average Loss: {:.4f} | Accuracy: {:.4f} | Precision: {:.4f} | Recall: {:.4f}\"\n",
    "          .format(engine.state.epoch, metrics['avg_loss'], metrics['avg_accuracy'], metrics['avg_precision'], metrics['avg_recall']))\n",
    "    \n",
    "# getting the trainer (train loop) to run evaluation for us\n",
    "@trainer.on(Events.EPOCH_COMPLETED)\n",
    "def compute_and_display_offline_val_metrics(engine):\n",
    "    epoch = engine.state.epoch\n",
    "    metrics = train_evaluator.run(val_loader).metrics\n",
    "    print(\"Validation Results - Epoch: {}  Average Loss: {:.4f} | Accuracy: {:.4f} | Precision: {:.4f} | Recall: {:.4f}\"\n",
    "          .format(engine.state.epoch, metrics['avg_loss'], metrics['avg_accuracy'], metrics['avg_precision'], metrics['avg_recall']))"
   ]
  },
  {
   "cell_type": "code",
   "execution_count": 14,
   "metadata": {},
   "outputs": [
    {
     "data": {
      "application/vnd.jupyter.widget-view+json": {
       "model_id": "",
       "version_major": 2,
       "version_minor": 0
      },
      "text/plain": [
       "[1/16]   6%|6          [00:00<?]"
      ]
     },
     "metadata": {},
     "output_type": "display_data"
    },
    {
     "name": "stdout",
     "output_type": "stream",
     "text": [
      "Training Results - Epoch: 1  Average Loss: 0.6628 | Accuracy: 1.0000 | Precision: 0.1000 | Recall: 0.1000\n",
      "Validation Results - Epoch: 1  Average Loss: 3.6277 | Accuracy: 0.0986 | Precision: 0.0099 | Recall: 0.1000\n"
     ]
    },
    {
     "data": {
      "application/vnd.jupyter.widget-view+json": {
       "model_id": "",
       "version_major": 2,
       "version_minor": 0
      },
      "text/plain": [
       "[1/16]   6%|6          [00:00<?]"
      ]
     },
     "metadata": {},
     "output_type": "display_data"
    },
    {
     "name": "stdout",
     "output_type": "stream",
     "text": [
      "Training Results - Epoch: 2  Average Loss: 0.5522 | Accuracy: 1.0000 | Precision: 0.1000 | Recall: 0.1000\n",
      "Validation Results - Epoch: 2  Average Loss: 5.0402 | Accuracy: 0.0986 | Precision: 0.0099 | Recall: 0.1000\n"
     ]
    }
   ],
   "source": [
    "state = trainer.run(train_loader, 2);"
   ]
  },
  {
   "cell_type": "markdown",
   "metadata": {},
   "source": [
    "### Add LR scheduler"
   ]
  },
  {
   "cell_type": "code",
   "execution_count": 14,
   "metadata": {},
   "outputs": [],
   "source": [
    "from fastai.callback.schedule import combined_cos\n",
    "from matplotlib import pyplot as plt\n",
    "from torch.optim.lr_scheduler import _LRScheduler"
   ]
  },
  {
   "cell_type": "code",
   "execution_count": 15,
   "metadata": {},
   "outputs": [
    {
     "data": {
      "image/png": "[encoded data removed]",
      "text/plain": [
       "<Figure size 432x288 with 1 Axes>"
      ]
     },
     "metadata": {
      "needs_background": "light"
     },
     "output_type": "display_data"
    }
   ],
   "source": [
    "p = torch.linspace(0.,1,100)\n",
    "f = combined_cos(0.75, LR, LR, LR/100000)\n",
    "plt.plot(p, [f(o) for o in p]);"
   ]
  },
  {
   "cell_type": "code",
   "execution_count": 17,
   "metadata": {},
   "outputs": [],
   "source": [
    "class FuncScheduler():\n",
    "    def __init__(self, optimizer, new_lr_calculator):\n",
    "        self.optimizer = optimizer\n",
    "        self.new_lr_calculator = new_lr_calculator\n",
    "        self.current_batch = 1\n",
    "    def attach(self, engine):\n",
    "        engine.add_event_handler(Events.STARTED, self.set_num_batches, engine)\n",
    "        engine.add_event_handler(Events.STARTED, self.reset)\n",
    "        engine.add_event_handler(Events.ITERATION_COMPLETED, self.step)\n",
    "    def reset(self):\n",
    "        self.current_batch = 1\n",
    "    def set_num_batches(self, engine):\n",
    "        self.num_batches = len(engine.state.dataloader) * engine.state.max_epochs\n",
    "    def step(self):\n",
    "        new_lr = self.new_lr_calculator(self.current_batch / self.num_batches)\n",
    "        self.optimizer.set_hyper('lr', new_lr)\n",
    "        self.current_batch += 1\n",
    "\n",
    "FuncScheduler(optimizer, combined_cos(0.75, LR, LR, LR/100000)).attach(trainer)"
   ]
  },
  {
   "cell_type": "code",
   "execution_count": 19,
   "metadata": {},
   "outputs": [],
   "source": [
    "trainer.state.lrs = []\n",
    "\n",
    "@trainer.on(Events.ITERATION_STARTED)\n",
    "def log_lr(engine):\n",
    "    current_lr = optimizer.param_groups[0]['lr']\n",
    "    engine.state.lrs.append(current_lr)"
   ]
  },
  {
   "cell_type": "code",
   "execution_count": 20,
   "metadata": {},
   "outputs": [
    {
     "data": {
      "application/vnd.jupyter.widget-view+json": {
       "model_id": "",
       "version_major": 2,
       "version_minor": 0
      },
      "text/plain": [
       "[1/16]   6%|6          [00:00<?]"
      ]
     },
     "metadata": {},
     "output_type": "display_data"
    },
    {
     "name": "stdout",
     "output_type": "stream",
     "text": [
      "Training Results - Epoch: 1  Average Loss: 0.5076 | Accuracy: 1.0000 | Precision: 0.1000 | Recall: 0.1000\n",
      "Validation Results - Epoch: 1  Average Loss: 4.0006 | Accuracy: 0.0986 | Precision: 0.0099 | Recall: 0.1000\n"
     ]
    },
    {
     "data": {
      "application/vnd.jupyter.widget-view+json": {
       "model_id": "",
       "version_major": 2,
       "version_minor": 0
      },
      "text/plain": [
       "[1/16]   6%|6          [00:00<?]"
      ]
     },
     "metadata": {},
     "output_type": "display_data"
    },
    {
     "name": "stdout",
     "output_type": "stream",
     "text": [
      "Training Results - Epoch: 2  Average Loss: 0.5046 | Accuracy: 1.0000 | Precision: 0.1000 | Recall: 0.1000\n",
      "Validation Results - Epoch: 2  Average Loss: 3.9298 | Accuracy: 0.0986 | Precision: 0.0099 | Recall: 0.1000\n"
     ]
    }
   ],
   "source": [
    "state = trainer.run(train_loader, 2);"
   ]
  },
  {
   "cell_type": "code",
   "execution_count": 21,
   "metadata": {},
   "outputs": [
    {
     "data": {
      "text/plain": [
       "[<matplotlib.lines.Line2D at 0x7f16cfb227c0>]"
      ]
     },
     "execution_count": 21,
     "metadata": {},
     "output_type": "execute_result"
    },
    {
     "data": {
      "image/png": "[encoded data removed]",
      "text/plain": [
       "<Figure size 432x288 with 1 Axes>"
      ]
     },
     "metadata": {
      "needs_background": "light"
     },
     "output_type": "display_data"
    }
   ],
   "source": [
    "plt.plot(state.lrs)"
   ]
  },
  {
   "cell_type": "markdown",
   "metadata": {},
   "source": [
    "### Pulling it all together"
   ]
  },
  {
   "cell_type": "code",
   "execution_count": 18,
   "metadata": {},
   "outputs": [
    {
     "data": {
      "application/vnd.jupyter.widget-view+json": {
       "model_id": "",
       "version_major": 2,
       "version_minor": 0
      },
      "text/plain": [
       "[1/296]   0%|           [00:00<?]"
      ]
     },
     "metadata": {},
     "output_type": "display_data"
    },
    {
     "name": "stdout",
     "output_type": "stream",
     "text": [
      "Training Results - Epoch: 1  Average Loss: 1.3644 | Accuracy: 0.6526 | Precision: 0.6964 | Recall: 0.6491\n",
      "Validation Results - Epoch: 1  Average Loss: 1.3928 | Accuracy: 0.6377 | Precision: 0.6823 | Recall: 0.6381\n"
     ]
    },
    {
     "data": {
      "application/vnd.jupyter.widget-view+json": {
       "model_id": "",
       "version_major": 2,
       "version_minor": 0
      },
      "text/plain": [
       "[1/296]   0%|           [00:00<?]"
      ]
     },
     "metadata": {},
     "output_type": "display_data"
    },
    {
     "name": "stdout",
     "output_type": "stream",
     "text": [
      "Training Results - Epoch: 2  Average Loss: 1.3286 | Accuracy: 0.6606 | Precision: 0.7491 | Recall: 0.6544\n",
      "Validation Results - Epoch: 2  Average Loss: 1.3832 | Accuracy: 0.6372 | Precision: 0.7306 | Recall: 0.6393\n"
     ]
    },
    {
     "data": {
      "application/vnd.jupyter.widget-view+json": {
       "model_id": "",
       "version_major": 2,
       "version_minor": 0
      },
      "text/plain": [
       "[1/296]   0%|           [00:00<?]"
      ]
     },
     "metadata": {},
     "output_type": "display_data"
    },
    {
     "name": "stdout",
     "output_type": "stream",
     "text": [
      "Training Results - Epoch: 3  Average Loss: 0.9715 | Accuracy: 0.8265 | Precision: 0.8391 | Recall: 0.8259\n",
      "Validation Results - Epoch: 3  Average Loss: 1.0679 | Accuracy: 0.7822 | Precision: 0.7965 | Recall: 0.7832\n"
     ]
    },
    {
     "data": {
      "application/vnd.jupyter.widget-view+json": {
       "model_id": "",
       "version_major": 2,
       "version_minor": 0
      },
      "text/plain": [
       "[1/296]   0%|           [00:00<?]"
      ]
     },
     "metadata": {},
     "output_type": "display_data"
    },
    {
     "name": "stdout",
     "output_type": "stream",
     "text": [
      "Training Results - Epoch: 4  Average Loss: 0.8909 | Accuracy: 0.8575 | Precision: 0.8611 | Recall: 0.8558\n",
      "Validation Results - Epoch: 4  Average Loss: 1.0095 | Accuracy: 0.8041 | Precision: 0.8101 | Recall: 0.8057\n"
     ]
    },
    {
     "data": {
      "application/vnd.jupyter.widget-view+json": {
       "model_id": "",
       "version_major": 2,
       "version_minor": 0
      },
      "text/plain": [
       "[1/296]   0%|           [00:00<?]"
      ]
     },
     "metadata": {},
     "output_type": "display_data"
    },
    {
     "name": "stdout",
     "output_type": "stream",
     "text": [
      "Training Results - Epoch: 5  Average Loss: 0.7162 | Accuracy: 0.9355 | Precision: 0.9349 | Recall: 0.9350\n",
      "Validation Results - Epoch: 5  Average Loss: 0.8639 | Accuracy: 0.8604 | Precision: 0.8601 | Recall: 0.8606\n"
     ]
    }
   ],
   "source": [
    "state = trainer.run(train_loader, 5)"
   ]
  }
 ],
 "metadata": {
  "kernelspec": {
   "display_name": "Python 3",
   "language": "python",
   "name": "python3"
  },
  "language_info": {
   "codemirror_mode": {
    "name": "ipython",
    "version": 3
   },
   "file_extension": ".py",
   "mimetype": "text/x-python",
   "name": "python",
   "nbconvert_exporter": "python",
   "pygments_lexer": "ipython3",
   "version": "3.8.8"
  },
  "widgets": {
   "application/vnd.jupyter.widget-state+json": {
    "state": {
     "08787b8a0dd644bfabb9ab0920a6b13c": {
      "model_module": "@jupyter-widgets/base",
      "model_module_version": "1.2.0",
      "model_name": "LayoutModel",
      "state": {}
     },
     "0de2b8ac030e4aa09083dd6f1781c314": {
      "model_module": "@jupyter-widgets/controls",
      "model_module_version": "1.5.0",
      "model_name": "HBoxModel",
      "state": {
       "children": [
        "IPY_MODEL_4803336606914a15b95ea61475cc3864",
        "IPY_MODEL_c9e4f395e038442d80aff30083c7d7c0",
        "IPY_MODEL_fd40c2984b9544238e0b4f20f203a7e4"
       ],
       "layout": "IPY_MODEL_ccbc60357a364a468b4274ed4ccb2046"
      }
     },
     "0f6506a08a504eeb94c6bb837da0e035": {
      "model_module": "@jupyter-widgets/controls",
      "model_module_version": "1.5.0",
      "model_name": "HTMLModel",
      "state": {
       "layout": "IPY_MODEL_faac0096e47b45148f572e2934887ad3",
       "style": "IPY_MODEL_b4dbf46321d6406c9eea3aa7dc478231",
       "value": "100%"
      }
     },
     "10ee16cbf11e4068a93fe1f6bbb8838e": {
      "model_module": "@jupyter-widgets/controls",
      "model_module_version": "1.5.0",
      "model_name": "HBoxModel",
      "state": {
       "children": [
        "IPY_MODEL_51fa2d72ba6d4235aaa1617a7a08faec",
        "IPY_MODEL_7ebb1a0b764f4691a2710a02d30a890b",
        "IPY_MODEL_883800f459804358b4e794e8c62755d0"
       ],
       "layout": "IPY_MODEL_2233bed5f8164471adff515035cd3a84"
      }
     },
     "1d61a67b027143e0a23c43caeafb7935": {
      "model_module": "@jupyter-widgets/controls",
      "model_module_version": "1.5.0",
      "model_name": "HBoxModel",
      "state": {
       "children": [
        "IPY_MODEL_0f6506a08a504eeb94c6bb837da0e035",
        "IPY_MODEL_37ea625ec12841b8a1ae008c500cf694",
        "IPY_MODEL_d5cb2e3881304decbeccb3121322cde3"
       ],
       "layout": "IPY_MODEL_4c687bbe71704bcab840adc74bf2aa58"
      }
     },
     "222846cc368041deb4764410836f224a": {
      "model_module": "@jupyter-widgets/controls",
      "model_module_version": "1.5.0",
      "model_name": "DescriptionStyleModel",
      "state": {
       "description_width": ""
      }
     },
     "2233bed5f8164471adff515035cd3a84": {
      "model_module": "@jupyter-widgets/base",
      "model_module_version": "1.2.0",
      "model_name": "LayoutModel",
      "state": {}
     },
     "22a012fe9c214fc1910c9862ad913430": {
      "model_module": "@jupyter-widgets/base",
      "model_module_version": "1.2.0",
      "model_name": "LayoutModel",
      "state": {}
     },
     "24c495f54cc94d11a56c392ab262842f": {
      "model_module": "@jupyter-widgets/controls",
      "model_module_version": "1.5.0",
      "model_name": "DescriptionStyleModel",
      "state": {
       "description_width": ""
      }
     },
     "30933ad85da748359ab3fad8ac40788c": {
      "model_module": "@jupyter-widgets/base",
      "model_module_version": "1.2.0",
      "model_name": "LayoutModel",
      "state": {}
     },
     "315adc4f18ea485da3ff60ede75101b5": {
      "model_module": "@jupyter-widgets/base",
      "model_module_version": "1.2.0",
      "model_name": "LayoutModel",
      "state": {}
     },
     "37ea625ec12841b8a1ae008c500cf694": {
      "model_module": "@jupyter-widgets/controls",
      "model_module_version": "1.5.0",
      "model_name": "FloatProgressModel",
      "state": {
       "bar_style": "success",
       "layout": "IPY_MODEL_9f3af29f9858492bb0b5fe4207161e4e",
       "max": 10,
       "style": "IPY_MODEL_f576684e3ae44677a01cabb9180bbe58",
       "value": 10
      }
     },
     "3f0fb3ea49dc4a9ca4d23dec743bd181": {
      "model_module": "@jupyter-widgets/controls",
      "model_module_version": "1.5.0",
      "model_name": "ProgressStyleModel",
      "state": {
       "description_width": ""
      }
     },
     "43ff87ccbbc84559ae7a34c880e037d7": {
      "model_module": "@jupyter-widgets/controls",
      "model_module_version": "1.5.0",
      "model_name": "HTMLModel",
      "state": {
       "layout": "IPY_MODEL_30933ad85da748359ab3fad8ac40788c",
       "style": "IPY_MODEL_cb37bb435b754e49bab1514b3d38ea4c",
       "value": "100%"
      }
     },
     "4803336606914a15b95ea61475cc3864": {
      "model_module": "@jupyter-widgets/controls",
      "model_module_version": "1.5.0",
      "model_name": "HTMLModel",
      "state": {
       "layout": "IPY_MODEL_08787b8a0dd644bfabb9ab0920a6b13c",
       "style": "IPY_MODEL_dea3259e97184158a06364530b35db49",
       "value": "100%"
      }
     },
     "48af702ddd8c48aba93eaa7a32675b0b": {
      "model_module": "@jupyter-widgets/controls",
      "model_module_version": "1.5.0",
      "model_name": "DescriptionStyleModel",
      "state": {
       "description_width": ""
      }
     },
     "4c687bbe71704bcab840adc74bf2aa58": {
      "model_module": "@jupyter-widgets/base",
      "model_module_version": "1.2.0",
      "model_name": "LayoutModel",
      "state": {}
     },
     "4d448d759ad54bd79d36190916a33ed4": {
      "model_module": "@jupyter-widgets/controls",
      "model_module_version": "1.5.0",
      "model_name": "HBoxModel",
      "state": {
       "children": [
        "IPY_MODEL_43ff87ccbbc84559ae7a34c880e037d7",
        "IPY_MODEL_755a3a72bbea4866aa21955f746db048",
        "IPY_MODEL_8df78eac326e4f8c85331c2484f4baa6"
       ],
       "layout": "IPY_MODEL_e7ccdf4593a34723ab1766920047f9d8"
      }
     },
     "51fa2d72ba6d4235aaa1617a7a08faec": {
      "model_module": "@jupyter-widgets/controls",
      "model_module_version": "1.5.0",
      "model_name": "HTMLModel",
      "state": {
       "layout": "IPY_MODEL_8ca65f016531432c8f144d48662667e7",
       "style": "IPY_MODEL_24c495f54cc94d11a56c392ab262842f",
       "value": "100%"
      }
     },
     "62235f53fa9843748fee89c4c4f254dd": {
      "model_module": "@jupyter-widgets/controls",
      "model_module_version": "1.5.0",
      "model_name": "DescriptionStyleModel",
      "state": {
       "description_width": ""
      }
     },
     "63c8bbc00aa64fdaa2e77da2dad992c9": {
      "model_module": "@jupyter-widgets/base",
      "model_module_version": "1.2.0",
      "model_name": "LayoutModel",
      "state": {}
     },
     "755a3a72bbea4866aa21955f746db048": {
      "model_module": "@jupyter-widgets/controls",
      "model_module_version": "1.5.0",
      "model_name": "FloatProgressModel",
      "state": {
       "bar_style": "success",
       "layout": "IPY_MODEL_7d6a7b8871f84cb58f0b02af56443818",
       "max": 10,
       "style": "IPY_MODEL_aa1a86ba7c8a403988584e18dc3061e7",
       "value": 10
      }
     },
     "7d6a7b8871f84cb58f0b02af56443818": {
      "model_module": "@jupyter-widgets/base",
      "model_module_version": "1.2.0",
      "model_name": "LayoutModel",
      "state": {}
     },
     "7ebb1a0b764f4691a2710a02d30a890b": {
      "model_module": "@jupyter-widgets/controls",
      "model_module_version": "1.5.0",
      "model_name": "FloatProgressModel",
      "state": {
       "bar_style": "success",
       "layout": "IPY_MODEL_8403c501c0af4039b2d7fc3030339a4f",
       "max": 10,
       "style": "IPY_MODEL_3f0fb3ea49dc4a9ca4d23dec743bd181",
       "value": 10
      }
     },
     "8403c501c0af4039b2d7fc3030339a4f": {
      "model_module": "@jupyter-widgets/base",
      "model_module_version": "1.2.0",
      "model_name": "LayoutModel",
      "state": {}
     },
     "883800f459804358b4e794e8c62755d0": {
      "model_module": "@jupyter-widgets/controls",
      "model_module_version": "1.5.0",
      "model_name": "HTMLModel",
      "state": {
       "layout": "IPY_MODEL_22a012fe9c214fc1910c9862ad913430",
       "style": "IPY_MODEL_222846cc368041deb4764410836f224a",
       "value": " 10/10 [00:00&lt;00:00, 687.77it/s]"
      }
     },
     "8ca65f016531432c8f144d48662667e7": {
      "model_module": "@jupyter-widgets/base",
      "model_module_version": "1.2.0",
      "model_name": "LayoutModel",
      "state": {}
     },
     "8df78eac326e4f8c85331c2484f4baa6": {
      "model_module": "@jupyter-widgets/controls",
      "model_module_version": "1.5.0",
      "model_name": "HTMLModel",
      "state": {
       "layout": "IPY_MODEL_b4904bdb03234e7bb98565dd8ec12bd8",
       "style": "IPY_MODEL_48af702ddd8c48aba93eaa7a32675b0b",
       "value": " 10/10 [00:00&lt;00:00, 706.80it/s]"
      }
     },
     "9f3af29f9858492bb0b5fe4207161e4e": {
      "model_module": "@jupyter-widgets/base",
      "model_module_version": "1.2.0",
      "model_name": "LayoutModel",
      "state": {}
     },
     "aa1a86ba7c8a403988584e18dc3061e7": {
      "model_module": "@jupyter-widgets/controls",
      "model_module_version": "1.5.0",
      "model_name": "ProgressStyleModel",
      "state": {
       "description_width": ""
      }
     },
     "b4904bdb03234e7bb98565dd8ec12bd8": {
      "model_module": "@jupyter-widgets/base",
      "model_module_version": "1.2.0",
      "model_name": "LayoutModel",
      "state": {}
     },
     "b4dbf46321d6406c9eea3aa7dc478231": {
      "model_module": "@jupyter-widgets/controls",
      "model_module_version": "1.5.0",
      "model_name": "DescriptionStyleModel",
      "state": {
       "description_width": ""
      }
     },
     "c9e4f395e038442d80aff30083c7d7c0": {
      "model_module": "@jupyter-widgets/controls",
      "model_module_version": "1.5.0",
      "model_name": "FloatProgressModel",
      "state": {
       "bar_style": "success",
       "layout": "IPY_MODEL_63c8bbc00aa64fdaa2e77da2dad992c9",
       "max": 10,
       "style": "IPY_MODEL_efb4645197c54a85a378f51fe716e33a",
       "value": 10
      }
     },
     "cb37bb435b754e49bab1514b3d38ea4c": {
      "model_module": "@jupyter-widgets/controls",
      "model_module_version": "1.5.0",
      "model_name": "DescriptionStyleModel",
      "state": {
       "description_width": ""
      }
     },
     "ccbc60357a364a468b4274ed4ccb2046": {
      "model_module": "@jupyter-widgets/base",
      "model_module_version": "1.2.0",
      "model_name": "LayoutModel",
      "state": {}
     },
     "d5cb2e3881304decbeccb3121322cde3": {
      "model_module": "@jupyter-widgets/controls",
      "model_module_version": "1.5.0",
      "model_name": "HTMLModel",
      "state": {
       "layout": "IPY_MODEL_315adc4f18ea485da3ff60ede75101b5",
       "style": "IPY_MODEL_d5fa9ed40d974d9d91d1c7e8fdabe85e",
       "value": " 10/10 [00:00&lt;00:00, 610.74it/s]"
      }
     },
     "d5fa9ed40d974d9d91d1c7e8fdabe85e": {
      "model_module": "@jupyter-widgets/controls",
      "model_module_version": "1.5.0",
      "model_name": "DescriptionStyleModel",
      "state": {
       "description_width": ""
      }
     },
     "dea3259e97184158a06364530b35db49": {
      "model_module": "@jupyter-widgets/controls",
      "model_module_version": "1.5.0",
      "model_name": "DescriptionStyleModel",
      "state": {
       "description_width": ""
      }
     },
     "e4fbb1ce983a41248a0a46d91ae9a74b": {
      "model_module": "@jupyter-widgets/base",
      "model_module_version": "1.2.0",
      "model_name": "LayoutModel",
      "state": {}
     },
     "e7ccdf4593a34723ab1766920047f9d8": {
      "model_module": "@jupyter-widgets/base",
      "model_module_version": "1.2.0",
      "model_name": "LayoutModel",
      "state": {}
     },
     "efb4645197c54a85a378f51fe716e33a": {
      "model_module": "@jupyter-widgets/controls",
      "model_module_version": "1.5.0",
      "model_name": "ProgressStyleModel",
      "state": {
       "description_width": ""
      }
     },
     "f576684e3ae44677a01cabb9180bbe58": {
      "model_module": "@jupyter-widgets/controls",
      "model_module_version": "1.5.0",
      "model_name": "ProgressStyleModel",
      "state": {
       "description_width": ""
      }
     },
     "faac0096e47b45148f572e2934887ad3": {
      "model_module": "@jupyter-widgets/base",
      "model_module_version": "1.2.0",
      "model_name": "LayoutModel",
      "state": {}
     },
     "fd40c2984b9544238e0b4f20f203a7e4": {
      "model_module": "@jupyter-widgets/controls",
      "model_module_version": "1.5.0",
      "model_name": "HTMLModel",
      "state": {
       "layout": "IPY_MODEL_e4fbb1ce983a41248a0a46d91ae9a74b",
       "style": "IPY_MODEL_62235f53fa9843748fee89c4c4f254dd",
       "value": " 10/10 [00:00&lt;00:00, 704.37it/s]"
      }
     }
    },
    "version_major": 2,
    "version_minor": 0
   }
  }
 },
 "nbformat": 4,
 "nbformat_minor": 4
}
